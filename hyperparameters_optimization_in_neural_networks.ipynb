{
  "cells": [
    {
      "cell_type": "markdown",
      "metadata": {
        "id": "kw2I4M1Pr_oM"
      },
      "source": [
        "## This is the starter notebook for the challenge"
      ]
    },
    {
      "cell_type": "markdown",
      "metadata": {
        "id": "xjlew1XHr_oP"
      },
      "source": [
        "#### starter libraries"
      ]
    },
    {
      "cell_type": "code",
      "execution_count": null,
      "metadata": {
        "id": "6Ve1-xvAr_oQ"
      },
      "outputs": [],
      "source": [
        "import torch\n",
        "import torch.nn as nn\n",
        "import torch.optim as optim\n",
        "from torch.utils.data import DataLoader, TensorDataset\n",
        "import numpy as np\n",
        "import pandas as pd\n",
        "import seaborn as sns\n",
        "import matplotlib.pyplot as plt\n",
        "import random\n",
        "from tqdm import tqdm\n",
        "from sklearn.model_selection import GridSearchCV, RandomizedSearchCV"
      ]
    },
    {
      "cell_type": "markdown",
      "metadata": {
        "id": "nSrwdSYwr_oS"
      },
      "source": [
        "#### Neural network architecture"
      ]
    },
    {
      "cell_type": "code",
      "execution_count": null,
      "metadata": {
        "id": "7Nbxs2Phr_oS"
      },
      "outputs": [],
      "source": [
        "class NN(nn.Module):\n",
        "    def __init__(self):\n",
        "        super(NN, self).__init__()\n",
        "        self.fc1 = nn.Linear(28 * 28, 128)\n",
        "        self.fc2 = nn.Linear(128, 10)\n",
        "\n",
        "    def forward(self, x):\n",
        "        x = x.view(-1, 28 * 28)\n",
        "        x = torch.relu(self.fc1(x))\n",
        "        x = self.fc2(x)\n",
        "        return x"
      ]
    },
    {
      "cell_type": "markdown",
      "metadata": {
        "id": "mpZGJTB0r_oT"
      },
      "source": [
        "#### We are going to use the Mnist dataset"
      ]
    },
    {
      "cell_type": "code",
      "execution_count": null,
      "metadata": {
        "id": "VZHOGFuvr_oT"
      },
      "outputs": [],
      "source": [
        "from torchvision import datasets, transforms\n",
        "\n",
        "transform = transforms.Compose([transforms.ToTensor(), transforms.Normalize((0.5,), (0.5,))])\n",
        "\n",
        "train_data = datasets.MNIST(root='./data', train=True, download=True, transform=transform)\n",
        "val_data = datasets.MNIST(root='./data', train=False, download=True, transform=transform)"
      ]
    },
    {
      "cell_type": "markdown",
      "metadata": {
        "id": "FiuJLArer_oU"
      },
      "source": [
        "#### And there you go!"
      ]
    },
    {
      "cell_type": "code",
      "source": [
        "def train_test_model(batch_size, learning_rate, epochs) :\n",
        "  # Define data loaders\n",
        "  train_loader = DataLoader(train_data, batch_size=batch_size, shuffle=True)\n",
        "  val_loader = DataLoader(val_data, batch_size=batch_size, shuffle=False)\n",
        "\n",
        "  # Initialize the model, loss function, and optimizer\n",
        "  model = NN()\n",
        "  criterion = nn.CrossEntropyLoss()\n",
        "  optimizer = optim.Adam(model.parameters(), lr=learning_rate)\n",
        "\n",
        "  # Training the model\n",
        "  for epoch in range(epochs):\n",
        "    model.train()\n",
        "    running_loss = 0.0\n",
        "    for images, labels in train_loader:\n",
        "        optimizer.zero_grad()  # Reset gradients\n",
        "        outputs = model(images)  # Forward pass\n",
        "        loss = criterion(outputs, labels)  # Compute loss\n",
        "        loss.backward()  # Backpropagation\n",
        "        optimizer.step()  # Update weights\n",
        "        running_loss += loss.item()\n",
        "\n",
        "  # Evaluate the model\n",
        "  model.eval()\n",
        "  correct = 0\n",
        "  total = 0\n",
        "  with torch.no_grad():\n",
        "    for images, labels in val_loader:\n",
        "        outputs = model(images)\n",
        "        _, predicted = torch.max(outputs, 1)\n",
        "        total += labels.size(0)\n",
        "        correct += (predicted == labels).sum().item()\n",
        "\n",
        "  accuracy = 100 * correct / total\n",
        "  return accuracy"
      ],
      "metadata": {
        "id": "k1i_jCZkui2I"
      },
      "execution_count": null,
      "outputs": []
    },
    {
      "cell_type": "markdown",
      "source": [
        "# Genetic Algorithm"
      ],
      "metadata": {
        "id": "NWrT4tE3xK5n"
      }
    },
    {
      "cell_type": "markdown",
      "source": [
        "## Genetic Algorithm (GA)\n",
        "\n",
        "A **Genetic Algorithm (GA)** is a heuristic search algorithm inspired by the process of natural selection. It is used to find approximate solutions to optimization and search problems by mimicking the process of evolution. GA operates by evolving a population of candidate solutions to a problem over several generations.\n",
        "\n",
        "GA is a powerful optimization tool used for complex search problems where other traditional optimization methods may fail.\n"
      ],
      "metadata": {
        "id": "xTI6K6-kaqSu"
      }
    },
    {
      "cell_type": "code",
      "source": [
        "nb_individuals = 3"
      ],
      "metadata": {
        "id": "iphnhzrCvU_u"
      },
      "execution_count": null,
      "outputs": []
    },
    {
      "cell_type": "markdown",
      "source": [
        "## initial population creation"
      ],
      "metadata": {
        "id": "dUNvrFGMxczo"
      }
    },
    {
      "cell_type": "markdown",
      "source": [
        "## Key Components of Genetic Algorithm"
      ],
      "metadata": {
        "id": "IlMUY7iUbDC5"
      }
    },
    {
      "cell_type": "markdown",
      "source": [
        "\n",
        "### 1. **Initial Population**\n",
        "The initial population is a randomly generated set of potential solutions to the problem. Each solution is represented as a **chromosome** (a sequence of genes) that encodes a candidate solution. The size of the population can be defined by the user."
      ],
      "metadata": {
        "id": "BGk0LiPWbKuu"
      }
    },
    {
      "cell_type": "code",
      "source": [
        "def PI() :\n",
        "  population = []\n",
        "  batch_size = [i for i in range(1, 100)]\n",
        "  learning_rate = [0.001, 0.01, 0.1]\n",
        "  epochs = [i for i in range(1, 5)]\n",
        "  #On crée une copie de la liste mélangée en utilisant clients[:]\n",
        "  #et on l'ajoute à la liste matrice.\n",
        "  #Ceci garantit que chaque sous-liste dans la matrice est une copie séparée de la liste clients mélangée.\n",
        "  for _ in range(nb_individuals) :\n",
        "    population.append([random.choice(batch_size), random.choice(learning_rate), random.choice(epochs)])\n",
        "  return population"
      ],
      "metadata": {
        "id": "x_d48Iv0xZpf"
      },
      "execution_count": null,
      "outputs": []
    },
    {
      "cell_type": "markdown",
      "source": [
        "\n",
        "### 2. **Fitness Function (Score)**\n",
        "The fitness function evaluates how good a solution is. Each individual in the population is assigned a fitness score based on its performance on the problem. The fitness score is used to guide the selection process, where individuals with higher fitness scores are more likely to be selected for reproduction."
      ],
      "metadata": {
        "id": "lSukt-K7bRMh"
      }
    },
    {
      "cell_type": "code",
      "source": [
        "def fitness(solution):\n",
        "  return train_test_model(solution[0], solution[1], solution[2])"
      ],
      "metadata": {
        "id": "J74TIKflzrUb"
      },
      "execution_count": null,
      "outputs": []
    },
    {
      "cell_type": "code",
      "source": [
        "def solution_score(solution) :\n",
        "  dict_solution_score = {}\n",
        "  score = fitness(solution)\n",
        "  dict_solution_score[\"solution\"] = solution\n",
        "  dict_solution_score[\"score_fitness\"] = score\n",
        "  return dict_solution_score"
      ],
      "metadata": {
        "id": "PpjX3HPW3RFl"
      },
      "execution_count": null,
      "outputs": []
    },
    {
      "cell_type": "markdown",
      "source": [
        "### 3. **Crossover (Recombination)**\n",
        "Crossover is the process of combining the genetic information of two parent solutions to produce offspring. This mimics biological reproduction where two organisms combine their genetic material to create a new individual.\n",
        "\n",
        "#### Types of Crossover:\n",
        "- **Single-point crossover**: A single crossover point is selected, and the genetic material from two parents is exchanged after this point.\n",
        "- **Two-point crossover**: Two crossover points are chosen, and the genetic material between them is exchanged.\n",
        "- **Uniform crossover**: Genes from both parents are randomly selected to create the offspring."
      ],
      "metadata": {
        "id": "mqya_ZdXbXen"
      }
    },
    {
      "cell_type": "code",
      "source": [
        "def croisement(parent1, parent2):\n",
        "    # Define the crossover point\n",
        "    point_croisement = 1\n",
        "\n",
        "    # Create offspring initialized with parts of parents\n",
        "    enfant1 = parent1[:point_croisement] + parent2[point_croisement:]\n",
        "    enfant2 = parent2[:point_croisement] + parent1[point_croisement:]\n",
        "\n",
        "    return enfant1, enfant2"
      ],
      "metadata": {
        "id": "u9aRaLNU3Zgd"
      },
      "execution_count": null,
      "outputs": []
    },
    {
      "cell_type": "markdown",
      "source": [
        "### 4. **Generating New Generation**\n",
        "After selection, crossover, and mutation, a new generation is created. The new generation replaces the old generation, and the process repeats for a specified number of generations. The individuals of the new generation are evaluated based on their fitness, and the process continues until the termination criteria are met."
      ],
      "metadata": {
        "id": "WZLl4a9TbygX"
      }
    },
    {
      "cell_type": "code",
      "source": [
        "def creation_nouvelle_generation(population) :\n",
        "  nouvelle_generation = []\n",
        "  for _ in range(nb_individuals) :\n",
        "      parent1, parent2 = random.sample(population, k= 2) # selection de deux parents aleatoirement\n",
        "      enfant1, enfant2 = croisement(parent1, parent2) # appelle a la fonction croisement pour generer deux solutions enfants a partir des deux parents\n",
        "      nouvelle_generation.extend([parent1, parent2, enfant1[:], enfant2[:]]) # ajouter a la nouvelle generation les deux enfants avec leurs parents\n",
        "  return nouvelle_generation"
      ],
      "metadata": {
        "id": "91T1a_kF6sxq"
      },
      "execution_count": null,
      "outputs": []
    },
    {
      "cell_type": "markdown",
      "source": [
        "### 5. **Selection**\n",
        "Selection is the process of choosing individuals from the population to create offspring for the next generation. The selection process aims to give preference to individuals with higher fitness scores, but it can also allow some diversity by selecting weaker individuals occasionally.\n",
        "\n",
        "#### Types of Selection Methods:\n",
        "- **Roulette Wheel Selection**: Individuals are selected based on their fitness, with higher fitness individuals having a higher chance of being selected.\n",
        "- **Tournament Selection**: A subset of individuals is randomly selected, and the best individual from this subset is chosen."
      ],
      "metadata": {
        "id": "ztDfU4Ewbd18"
      }
    },
    {
      "cell_type": "code",
      "source": [
        "def selectionGen(generation):\n",
        "    meilleurs_solutions = sorted(generation, key=lambda x: x['score_fitness'], reverse= True)\n",
        "    meilleurs_solutions = meilleurs_solutions[:nb_individuals]\n",
        "    return meilleurs_solutions"
      ],
      "metadata": {
        "id": "IM1hyPv17yl8"
      },
      "execution_count": null,
      "outputs": []
    },
    {
      "cell_type": "markdown",
      "source": [
        "### 6. **Mutation**\n",
        "Mutation is a random change in the genetic material of an individual. It introduces diversity into the population by modifying some of the genes in an individual’s chromosome. Mutation is applied after crossover to ensure genetic variation.\n",
        "\n",
        "#### Types of Mutation:\n",
        "- **Bit-flip mutation**: A single bit in the chromosome is flipped (for binary encoding).\n",
        "- **Swap mutation**: Two genes are swapped in the chromosome.\n",
        "- **Gaussian mutation**: A gene value is modified by a small random number (for continuous values)."
      ],
      "metadata": {
        "id": "EE824dVVbtfK"
      }
    },
    {
      "cell_type": "code",
      "source": [
        "def mutation(generation, taux_mutation):\n",
        "    if random.random() > taux_mutation :\n",
        "        return generation\n",
        "    else :\n",
        "        random_solution = random.choice(generation)\n",
        "        random_solution[\"solution\"] = PI()[0]\n",
        "        random_solution[\"score_fitness\"] = fitness(random_solution[\"solution\"])\n",
        "        return generation"
      ],
      "metadata": {
        "id": "z-s-4oCq8QpX"
      },
      "execution_count": null,
      "outputs": []
    },
    {
      "cell_type": "markdown",
      "source": [
        "## Key Parameters of Genetic Algorithm\n",
        "\n",
        "### 1. **Number of Generations**\n",
        "The number of generations represents how many iterations of evolution the algorithm will perform. The algorithm stops when it reaches the predefined number of generations, or when other stopping criteria (such as convergence) are met.\n",
        "\n",
        "### 2. **Number of Individuals per Generation**\n",
        "This is the size of the population at each generation. A larger population provides more genetic diversity but increases computational complexity. A smaller population may lead to faster convergence but risks premature convergence.\n",
        "\n",
        "### 3. **Crossover Rate**\n",
        "This parameter determines how often crossover will occur between two parent solutions. A higher crossover rate promotes greater exploration of the search space, while a lower crossover rate leads to slower exploration and more exploitation of existing solutions.\n",
        "\n",
        "### 4. **Mutation Rate**\n",
        "The mutation rate controls the probability that a mutation will occur for a given individual. A higher mutation rate introduces more randomness and increases genetic diversity, while a lower mutation rate makes the algorithm more deterministic and convergent.\n",
        "\n",
        "### 5. **Elitism**\n",
        "Elitism ensures that the best individual(s) from the current generation are passed directly to the next generation without modification. This ensures that the solution does not degrade due to stochastic processes."
      ],
      "metadata": {
        "id": "uV0qwhOrb-IX"
      }
    },
    {
      "cell_type": "code",
      "source": [
        "nb_iteration = 4 # le nombre d'iteration (critère d'arret)\n",
        "population = PI() # creation de la population initiale\n",
        "\n",
        "# creation de graphe (solution optimale - nombre de generation )\n",
        "solutions_optimales = [] # liste qui contient les solutions optimales des differentes generations\n",
        "taux_mutation = 0.4\n",
        "\n",
        "for _ in tqdm(range(nb_iteration), total= nb_iteration, desc=f\"Loading %\"):\n",
        "    if _ == 0 : # dans la premeire iteration on prend la population initiale pour develloper la nouvelle generation\n",
        "        generation = creation_nouvelle_generation(population)\n",
        "    else : # sinon on dèmarre par la la generation prècèdente\n",
        "        generation = creation_nouvelle_generation(generation)\n",
        "\n",
        "    for i, solution in enumerate(generation): # partie d'èvalluation\n",
        "        generation[i] = solution_score(solution)\n",
        "\n",
        "    generation = selectionGen(generation) # partie de Selection\n",
        "    mutation(generation, taux_mutation)\n",
        "\n",
        "    generation = [solution['solution'] for solution in generation] # prendre seulement le champ \"solution\" de chaque dictionnaire de generation avant la prochaine iteration\n",
        "\n",
        "    solutions_optimales.append(generation[0]) # la meilleure solution de la generation actuelle\n",
        "\n",
        "print(f\"liste des solutions optimales : {solutions_optimales[-1]}\")"
      ],
      "metadata": {
        "colab": {
          "base_uri": "https://localhost:8080/"
        },
        "id": "iXohP2JX8-HF",
        "outputId": "59b35350-3bb4-41aa-eb3c-d1a57a17244f"
      },
      "execution_count": null,
      "outputs": [
        {
          "output_type": "stream",
          "name": "stderr",
          "text": [
            "Loading %: 100%|██████████| 4/4 [1:02:59<00:00, 944.80s/it]"
          ]
        },
        {
          "output_type": "stream",
          "name": "stdout",
          "text": [
            "liste des solutions optimales : [49, 0.001, 4]\n"
          ]
        },
        {
          "output_type": "stream",
          "name": "stderr",
          "text": [
            "\n"
          ]
        }
      ]
    },
    {
      "cell_type": "code",
      "source": [
        "def grid_search(hyperparameter_grid):\n",
        "    best_accuracy = 0\n",
        "    best_params = None\n",
        "\n",
        "    for params in hyperparameter_grid:\n",
        "        batch_size, learning_rate, epochs = params\n",
        "        print(f\"Testing with batch_size={batch_size}, learning_rate={learning_rate}, epochs={epochs}\")\n",
        "        accuracy = train_test_model(batch_size, learning_rate, epochs)\n",
        "        print(f\"Accuracy: {accuracy:.2f}%\")\n",
        "\n",
        "        if accuracy > best_accuracy:\n",
        "            best_accuracy = accuracy\n",
        "            best_params = params\n",
        "\n",
        "    return best_params, best_accuracy\n",
        "\n",
        "# Define the grid of hyperparameters\n",
        "batch_sizes = [32, 64, 128]\n",
        "learning_rates = [0.01, 0.001, 0.0001]\n",
        "epochs_list = [5, 10]\n",
        "\n",
        "# Create all combinations of hyperparameters\n",
        "from itertools import product\n",
        "hyperparameter_grid = list(product(batch_sizes, learning_rates, epochs_list))\n",
        "\n",
        "# Perform GridSearch\n",
        "best_params, best_accuracy = grid_search(hyperparameter_grid)\n",
        "print(f\"Best parameters: {best_params}\")\n",
        "print(f\"Best accuracy: {best_accuracy:.2f}%\")"
      ],
      "metadata": {
        "colab": {
          "base_uri": "https://localhost:8080/"
        },
        "id": "LSJ8sQat1c9-",
        "outputId": "5750b37e-8697-400f-aa2a-e2475e015a2a"
      },
      "execution_count": null,
      "outputs": [
        {
          "output_type": "stream",
          "name": "stdout",
          "text": [
            "Testing with batch_size=32, learning_rate=0.01, epochs=5\n",
            "Accuracy: 93.03%\n",
            "Testing with batch_size=32, learning_rate=0.01, epochs=10\n",
            "Accuracy: 92.62%\n",
            "Testing with batch_size=32, learning_rate=0.001, epochs=5\n",
            "Accuracy: 96.61%\n",
            "Testing with batch_size=32, learning_rate=0.001, epochs=10\n",
            "Accuracy: 97.21%\n",
            "Testing with batch_size=32, learning_rate=0.0001, epochs=5\n",
            "Accuracy: 94.50%\n",
            "Testing with batch_size=32, learning_rate=0.0001, epochs=10\n",
            "Accuracy: 96.25%\n",
            "Testing with batch_size=64, learning_rate=0.01, epochs=5\n",
            "Accuracy: 91.15%\n",
            "Testing with batch_size=64, learning_rate=0.01, epochs=10\n",
            "Accuracy: 93.15%\n",
            "Testing with batch_size=64, learning_rate=0.001, epochs=5\n",
            "Accuracy: 96.53%\n",
            "Testing with batch_size=64, learning_rate=0.001, epochs=10\n",
            "Accuracy: 97.17%\n",
            "Testing with batch_size=64, learning_rate=0.0001, epochs=5\n",
            "Accuracy: 93.45%\n",
            "Testing with batch_size=64, learning_rate=0.0001, epochs=10\n",
            "Accuracy: 95.51%\n",
            "Testing with batch_size=128, learning_rate=0.01, epochs=5\n",
            "Accuracy: 94.78%\n",
            "Testing with batch_size=128, learning_rate=0.01, epochs=10\n",
            "Accuracy: 94.51%\n",
            "Testing with batch_size=128, learning_rate=0.001, epochs=5\n",
            "Accuracy: 96.64%\n",
            "Testing with batch_size=128, learning_rate=0.001, epochs=10\n",
            "Accuracy: 96.28%\n",
            "Testing with batch_size=128, learning_rate=0.0001, epochs=5\n",
            "Accuracy: 92.69%\n",
            "Testing with batch_size=128, learning_rate=0.0001, epochs=10\n",
            "Accuracy: 94.24%\n",
            "Best parameters: (32, 0.001, 10)\n",
            "Best accuracy: 97.21%\n"
          ]
        }
      ]
    },
    {
      "cell_type": "code",
      "source": [
        "def randomized_search(hyperparameter_space, n_iter=10):\n",
        "    best_accuracy = 0\n",
        "    best_params = None\n",
        "\n",
        "    for _ in range(n_iter):\n",
        "        # Randomly sample hyperparameters\n",
        "        batch_size = random.choice(hyperparameter_space[\"batch_size\"])\n",
        "        learning_rate = random.choice(hyperparameter_space[\"learning_rate\"])\n",
        "        epochs = random.choice(hyperparameter_space[\"epochs\"])\n",
        "\n",
        "        print(f\"Testing with batch_size={batch_size}, learning_rate={learning_rate}, epochs={epochs}\")\n",
        "        accuracy = train_test_model(batch_size, learning_rate, epochs)\n",
        "        print(f\"Accuracy: {accuracy:.2f}%\")\n",
        "\n",
        "        if accuracy > best_accuracy:\n",
        "            best_accuracy = accuracy\n",
        "            best_params = (batch_size, learning_rate, epochs)\n",
        "\n",
        "    return best_params, best_accuracy\n",
        "\n",
        "\n",
        "# Define the space of hyperparameters\n",
        "hyperparameter_space = {\n",
        "    \"batch_size\": [32, 64, 128],\n",
        "    \"learning_rate\": [0.01, 0.001, 0.0001],\n",
        "    \"epochs\": [5, 10],\n",
        "}\n",
        "\n",
        "# Perform RandomizedSearch\n",
        "best_params, best_accuracy = randomized_search(hyperparameter_space, n_iter=10)\n",
        "print(f\"Best parameters: {best_params}\")\n",
        "print(f\"Best accuracy: {best_accuracy:.2f}%\")"
      ],
      "metadata": {
        "colab": {
          "base_uri": "https://localhost:8080/"
        },
        "id": "_1QaAnfW4E9g",
        "outputId": "ed940c2b-33aa-44a3-b2da-abd8f0ec6cae"
      },
      "execution_count": null,
      "outputs": [
        {
          "output_type": "stream",
          "name": "stdout",
          "text": [
            "Testing with batch_size=128, learning_rate=0.001, epochs=10\n",
            "Accuracy: 97.18%\n",
            "Testing with batch_size=32, learning_rate=0.001, epochs=10\n",
            "Accuracy: 97.43%\n",
            "Testing with batch_size=32, learning_rate=0.01, epochs=5\n",
            "Accuracy: 91.26%\n",
            "Testing with batch_size=128, learning_rate=0.001, epochs=10\n",
            "Accuracy: 97.42%\n",
            "Testing with batch_size=64, learning_rate=0.01, epochs=10\n",
            "Accuracy: 92.94%\n",
            "Testing with batch_size=64, learning_rate=0.001, epochs=10\n",
            "Accuracy: 97.26%\n",
            "Testing with batch_size=32, learning_rate=0.001, epochs=10\n",
            "Accuracy: 97.17%\n",
            "Testing with batch_size=128, learning_rate=0.01, epochs=5\n",
            "Accuracy: 94.03%\n",
            "Testing with batch_size=128, learning_rate=0.0001, epochs=5\n",
            "Accuracy: 92.42%\n",
            "Testing with batch_size=32, learning_rate=0.0001, epochs=10\n",
            "Accuracy: 96.33%\n",
            "Best parameters: (32, 0.001, 10)\n",
            "Best accuracy: 97.43%\n"
          ]
        }
      ]
    },
    {
      "cell_type": "code",
      "source": [
        "a = train_test_model(49, 0.001, 4)\n",
        "a"
      ],
      "metadata": {
        "colab": {
          "base_uri": "https://localhost:8080/"
        },
        "id": "I-pCnuDbDiKD",
        "outputId": "7381fe2f-b890-404f-eb84-8b5881d1efda"
      },
      "execution_count": null,
      "outputs": [
        {
          "output_type": "execute_result",
          "data": {
            "text/plain": [
              "96.71"
            ]
          },
          "metadata": {},
          "execution_count": 34
        }
      ]
    },
    {
      "cell_type": "code",
      "source": [
        "# Example data for GridSearchCV, RandomizedSearchCV, and GA results\n",
        "results = {\n",
        "    'Method': ['Grid Search', 'Randomized Search', 'Genetic Algorithm'],\n",
        "    'Best Hyperparameters': [\n",
        "        'batch_size = 32 , lr = 0.001, epochs = 10',     # Example GridSearch result\n",
        "        'batch_size = 32, lr = 0.001, epochs = 10',    # Example RandomizedSearch result\n",
        "        'batch_size= 49, lr=0.001, epochs=4'],  # Example GA result\n",
        "    'Best Score': [97.21, 97.43, 96.71],   # Example scores for each method\n",
        "    'Time Taken (min)': [15, 29, 60],   # Example time taken for each method\n",
        "}\n",
        "\n",
        "# Create a pandas DataFrame\n",
        "comparison_df = pd.DataFrame(results)\n",
        "\n",
        "# Display the table\n",
        "comparison_df"
      ],
      "metadata": {
        "colab": {
          "base_uri": "https://localhost:8080/",
          "height": 143
        },
        "id": "O-i8t0XtLL9_",
        "outputId": "d2ec05a7-93d4-48c7-9b0c-ee341895f9b1"
      },
      "execution_count": null,
      "outputs": [
        {
          "output_type": "execute_result",
          "data": {
            "text/plain": [
              "              Method                       Best Hyperparameters  Best Score  \\\n",
              "0        Grid Search  batch_size = 32 , lr = 0.001, epochs = 10       97.21   \n",
              "1  Randomized Search   batch_size = 32, lr = 0.001, epochs = 10       97.43   \n",
              "2  Genetic Algorithm         batch_size= 49, lr=0.001, epochs=4       96.71   \n",
              "\n",
              "   Time Taken (min)  \n",
              "0                15  \n",
              "1                29  \n",
              "2                60  "
            ],
            "text/html": [
              "\n",
              "  <div id=\"df-76ba219f-68aa-463e-a892-4715c699a1de\" class=\"colab-df-container\">\n",
              "    <div>\n",
              "<style scoped>\n",
              "    .dataframe tbody tr th:only-of-type {\n",
              "        vertical-align: middle;\n",
              "    }\n",
              "\n",
              "    .dataframe tbody tr th {\n",
              "        vertical-align: top;\n",
              "    }\n",
              "\n",
              "    .dataframe thead th {\n",
              "        text-align: right;\n",
              "    }\n",
              "</style>\n",
              "<table border=\"1\" class=\"dataframe\">\n",
              "  <thead>\n",
              "    <tr style=\"text-align: right;\">\n",
              "      <th></th>\n",
              "      <th>Method</th>\n",
              "      <th>Best Hyperparameters</th>\n",
              "      <th>Best Score</th>\n",
              "      <th>Time Taken (min)</th>\n",
              "    </tr>\n",
              "  </thead>\n",
              "  <tbody>\n",
              "    <tr>\n",
              "      <th>0</th>\n",
              "      <td>Grid Search</td>\n",
              "      <td>batch_size = 32 , lr = 0.001, epochs = 10</td>\n",
              "      <td>97.21</td>\n",
              "      <td>15</td>\n",
              "    </tr>\n",
              "    <tr>\n",
              "      <th>1</th>\n",
              "      <td>Randomized Search</td>\n",
              "      <td>batch_size = 32, lr = 0.001, epochs = 10</td>\n",
              "      <td>97.43</td>\n",
              "      <td>29</td>\n",
              "    </tr>\n",
              "    <tr>\n",
              "      <th>2</th>\n",
              "      <td>Genetic Algorithm</td>\n",
              "      <td>batch_size= 49, lr=0.001, epochs=4</td>\n",
              "      <td>96.71</td>\n",
              "      <td>60</td>\n",
              "    </tr>\n",
              "  </tbody>\n",
              "</table>\n",
              "</div>\n",
              "    <div class=\"colab-df-buttons\">\n",
              "\n",
              "  <div class=\"colab-df-container\">\n",
              "    <button class=\"colab-df-convert\" onclick=\"convertToInteractive('df-76ba219f-68aa-463e-a892-4715c699a1de')\"\n",
              "            title=\"Convert this dataframe to an interactive table.\"\n",
              "            style=\"display:none;\">\n",
              "\n",
              "  <svg xmlns=\"http://www.w3.org/2000/svg\" height=\"24px\" viewBox=\"0 -960 960 960\">\n",
              "    <path d=\"M120-120v-720h720v720H120Zm60-500h600v-160H180v160Zm220 220h160v-160H400v160Zm0 220h160v-160H400v160ZM180-400h160v-160H180v160Zm440 0h160v-160H620v160ZM180-180h160v-160H180v160Zm440 0h160v-160H620v160Z\"/>\n",
              "  </svg>\n",
              "    </button>\n",
              "\n",
              "  <style>\n",
              "    .colab-df-container {\n",
              "      display:flex;\n",
              "      gap: 12px;\n",
              "    }\n",
              "\n",
              "    .colab-df-convert {\n",
              "      background-color: #E8F0FE;\n",
              "      border: none;\n",
              "      border-radius: 50%;\n",
              "      cursor: pointer;\n",
              "      display: none;\n",
              "      fill: #1967D2;\n",
              "      height: 32px;\n",
              "      padding: 0 0 0 0;\n",
              "      width: 32px;\n",
              "    }\n",
              "\n",
              "    .colab-df-convert:hover {\n",
              "      background-color: #E2EBFA;\n",
              "      box-shadow: 0px 1px 2px rgba(60, 64, 67, 0.3), 0px 1px 3px 1px rgba(60, 64, 67, 0.15);\n",
              "      fill: #174EA6;\n",
              "    }\n",
              "\n",
              "    .colab-df-buttons div {\n",
              "      margin-bottom: 4px;\n",
              "    }\n",
              "\n",
              "    [theme=dark] .colab-df-convert {\n",
              "      background-color: #3B4455;\n",
              "      fill: #D2E3FC;\n",
              "    }\n",
              "\n",
              "    [theme=dark] .colab-df-convert:hover {\n",
              "      background-color: #434B5C;\n",
              "      box-shadow: 0px 1px 3px 1px rgba(0, 0, 0, 0.15);\n",
              "      filter: drop-shadow(0px 1px 2px rgba(0, 0, 0, 0.3));\n",
              "      fill: #FFFFFF;\n",
              "    }\n",
              "  </style>\n",
              "\n",
              "    <script>\n",
              "      const buttonEl =\n",
              "        document.querySelector('#df-76ba219f-68aa-463e-a892-4715c699a1de button.colab-df-convert');\n",
              "      buttonEl.style.display =\n",
              "        google.colab.kernel.accessAllowed ? 'block' : 'none';\n",
              "\n",
              "      async function convertToInteractive(key) {\n",
              "        const element = document.querySelector('#df-76ba219f-68aa-463e-a892-4715c699a1de');\n",
              "        const dataTable =\n",
              "          await google.colab.kernel.invokeFunction('convertToInteractive',\n",
              "                                                    [key], {});\n",
              "        if (!dataTable) return;\n",
              "\n",
              "        const docLinkHtml = 'Like what you see? Visit the ' +\n",
              "          '<a target=\"_blank\" href=https://colab.research.google.com/notebooks/data_table.ipynb>data table notebook</a>'\n",
              "          + ' to learn more about interactive tables.';\n",
              "        element.innerHTML = '';\n",
              "        dataTable['output_type'] = 'display_data';\n",
              "        await google.colab.output.renderOutput(dataTable, element);\n",
              "        const docLink = document.createElement('div');\n",
              "        docLink.innerHTML = docLinkHtml;\n",
              "        element.appendChild(docLink);\n",
              "      }\n",
              "    </script>\n",
              "  </div>\n",
              "\n",
              "\n",
              "<div id=\"df-2cf08a43-8fd7-4f04-a205-84233bde84af\">\n",
              "  <button class=\"colab-df-quickchart\" onclick=\"quickchart('df-2cf08a43-8fd7-4f04-a205-84233bde84af')\"\n",
              "            title=\"Suggest charts\"\n",
              "            style=\"display:none;\">\n",
              "\n",
              "<svg xmlns=\"http://www.w3.org/2000/svg\" height=\"24px\"viewBox=\"0 0 24 24\"\n",
              "     width=\"24px\">\n",
              "    <g>\n",
              "        <path d=\"M19 3H5c-1.1 0-2 .9-2 2v14c0 1.1.9 2 2 2h14c1.1 0 2-.9 2-2V5c0-1.1-.9-2-2-2zM9 17H7v-7h2v7zm4 0h-2V7h2v10zm4 0h-2v-4h2v4z\"/>\n",
              "    </g>\n",
              "</svg>\n",
              "  </button>\n",
              "\n",
              "<style>\n",
              "  .colab-df-quickchart {\n",
              "      --bg-color: #E8F0FE;\n",
              "      --fill-color: #1967D2;\n",
              "      --hover-bg-color: #E2EBFA;\n",
              "      --hover-fill-color: #174EA6;\n",
              "      --disabled-fill-color: #AAA;\n",
              "      --disabled-bg-color: #DDD;\n",
              "  }\n",
              "\n",
              "  [theme=dark] .colab-df-quickchart {\n",
              "      --bg-color: #3B4455;\n",
              "      --fill-color: #D2E3FC;\n",
              "      --hover-bg-color: #434B5C;\n",
              "      --hover-fill-color: #FFFFFF;\n",
              "      --disabled-bg-color: #3B4455;\n",
              "      --disabled-fill-color: #666;\n",
              "  }\n",
              "\n",
              "  .colab-df-quickchart {\n",
              "    background-color: var(--bg-color);\n",
              "    border: none;\n",
              "    border-radius: 50%;\n",
              "    cursor: pointer;\n",
              "    display: none;\n",
              "    fill: var(--fill-color);\n",
              "    height: 32px;\n",
              "    padding: 0;\n",
              "    width: 32px;\n",
              "  }\n",
              "\n",
              "  .colab-df-quickchart:hover {\n",
              "    background-color: var(--hover-bg-color);\n",
              "    box-shadow: 0 1px 2px rgba(60, 64, 67, 0.3), 0 1px 3px 1px rgba(60, 64, 67, 0.15);\n",
              "    fill: var(--button-hover-fill-color);\n",
              "  }\n",
              "\n",
              "  .colab-df-quickchart-complete:disabled,\n",
              "  .colab-df-quickchart-complete:disabled:hover {\n",
              "    background-color: var(--disabled-bg-color);\n",
              "    fill: var(--disabled-fill-color);\n",
              "    box-shadow: none;\n",
              "  }\n",
              "\n",
              "  .colab-df-spinner {\n",
              "    border: 2px solid var(--fill-color);\n",
              "    border-color: transparent;\n",
              "    border-bottom-color: var(--fill-color);\n",
              "    animation:\n",
              "      spin 1s steps(1) infinite;\n",
              "  }\n",
              "\n",
              "  @keyframes spin {\n",
              "    0% {\n",
              "      border-color: transparent;\n",
              "      border-bottom-color: var(--fill-color);\n",
              "      border-left-color: var(--fill-color);\n",
              "    }\n",
              "    20% {\n",
              "      border-color: transparent;\n",
              "      border-left-color: var(--fill-color);\n",
              "      border-top-color: var(--fill-color);\n",
              "    }\n",
              "    30% {\n",
              "      border-color: transparent;\n",
              "      border-left-color: var(--fill-color);\n",
              "      border-top-color: var(--fill-color);\n",
              "      border-right-color: var(--fill-color);\n",
              "    }\n",
              "    40% {\n",
              "      border-color: transparent;\n",
              "      border-right-color: var(--fill-color);\n",
              "      border-top-color: var(--fill-color);\n",
              "    }\n",
              "    60% {\n",
              "      border-color: transparent;\n",
              "      border-right-color: var(--fill-color);\n",
              "    }\n",
              "    80% {\n",
              "      border-color: transparent;\n",
              "      border-right-color: var(--fill-color);\n",
              "      border-bottom-color: var(--fill-color);\n",
              "    }\n",
              "    90% {\n",
              "      border-color: transparent;\n",
              "      border-bottom-color: var(--fill-color);\n",
              "    }\n",
              "  }\n",
              "</style>\n",
              "\n",
              "  <script>\n",
              "    async function quickchart(key) {\n",
              "      const quickchartButtonEl =\n",
              "        document.querySelector('#' + key + ' button');\n",
              "      quickchartButtonEl.disabled = true;  // To prevent multiple clicks.\n",
              "      quickchartButtonEl.classList.add('colab-df-spinner');\n",
              "      try {\n",
              "        const charts = await google.colab.kernel.invokeFunction(\n",
              "            'suggestCharts', [key], {});\n",
              "      } catch (error) {\n",
              "        console.error('Error during call to suggestCharts:', error);\n",
              "      }\n",
              "      quickchartButtonEl.classList.remove('colab-df-spinner');\n",
              "      quickchartButtonEl.classList.add('colab-df-quickchart-complete');\n",
              "    }\n",
              "    (() => {\n",
              "      let quickchartButtonEl =\n",
              "        document.querySelector('#df-2cf08a43-8fd7-4f04-a205-84233bde84af button');\n",
              "      quickchartButtonEl.style.display =\n",
              "        google.colab.kernel.accessAllowed ? 'block' : 'none';\n",
              "    })();\n",
              "  </script>\n",
              "</div>\n",
              "\n",
              "  <div id=\"id_d5302df4-ca17-4e7c-a6fa-b97d89608c62\">\n",
              "    <style>\n",
              "      .colab-df-generate {\n",
              "        background-color: #E8F0FE;\n",
              "        border: none;\n",
              "        border-radius: 50%;\n",
              "        cursor: pointer;\n",
              "        display: none;\n",
              "        fill: #1967D2;\n",
              "        height: 32px;\n",
              "        padding: 0 0 0 0;\n",
              "        width: 32px;\n",
              "      }\n",
              "\n",
              "      .colab-df-generate:hover {\n",
              "        background-color: #E2EBFA;\n",
              "        box-shadow: 0px 1px 2px rgba(60, 64, 67, 0.3), 0px 1px 3px 1px rgba(60, 64, 67, 0.15);\n",
              "        fill: #174EA6;\n",
              "      }\n",
              "\n",
              "      [theme=dark] .colab-df-generate {\n",
              "        background-color: #3B4455;\n",
              "        fill: #D2E3FC;\n",
              "      }\n",
              "\n",
              "      [theme=dark] .colab-df-generate:hover {\n",
              "        background-color: #434B5C;\n",
              "        box-shadow: 0px 1px 3px 1px rgba(0, 0, 0, 0.15);\n",
              "        filter: drop-shadow(0px 1px 2px rgba(0, 0, 0, 0.3));\n",
              "        fill: #FFFFFF;\n",
              "      }\n",
              "    </style>\n",
              "    <button class=\"colab-df-generate\" onclick=\"generateWithVariable('comparison_df')\"\n",
              "            title=\"Generate code using this dataframe.\"\n",
              "            style=\"display:none;\">\n",
              "\n",
              "  <svg xmlns=\"http://www.w3.org/2000/svg\" height=\"24px\"viewBox=\"0 0 24 24\"\n",
              "       width=\"24px\">\n",
              "    <path d=\"M7,19H8.4L18.45,9,17,7.55,7,17.6ZM5,21V16.75L18.45,3.32a2,2,0,0,1,2.83,0l1.4,1.43a1.91,1.91,0,0,1,.58,1.4,1.91,1.91,0,0,1-.58,1.4L9.25,21ZM18.45,9,17,7.55Zm-12,3A5.31,5.31,0,0,0,4.9,8.1,5.31,5.31,0,0,0,1,6.5,5.31,5.31,0,0,0,4.9,4.9,5.31,5.31,0,0,0,6.5,1,5.31,5.31,0,0,0,8.1,4.9,5.31,5.31,0,0,0,12,6.5,5.46,5.46,0,0,0,6.5,12Z\"/>\n",
              "  </svg>\n",
              "    </button>\n",
              "    <script>\n",
              "      (() => {\n",
              "      const buttonEl =\n",
              "        document.querySelector('#id_d5302df4-ca17-4e7c-a6fa-b97d89608c62 button.colab-df-generate');\n",
              "      buttonEl.style.display =\n",
              "        google.colab.kernel.accessAllowed ? 'block' : 'none';\n",
              "\n",
              "      buttonEl.onclick = () => {\n",
              "        google.colab.notebook.generateWithVariable('comparison_df');\n",
              "      }\n",
              "      })();\n",
              "    </script>\n",
              "  </div>\n",
              "\n",
              "    </div>\n",
              "  </div>\n"
            ],
            "application/vnd.google.colaboratory.intrinsic+json": {
              "type": "dataframe",
              "variable_name": "comparison_df",
              "summary": "{\n  \"name\": \"comparison_df\",\n  \"rows\": 3,\n  \"fields\": [\n    {\n      \"column\": \"Method\",\n      \"properties\": {\n        \"dtype\": \"string\",\n        \"num_unique_values\": 3,\n        \"samples\": [\n          \"Grid Search\",\n          \"Randomized Search\",\n          \"Genetic Algorithm\"\n        ],\n        \"semantic_type\": \"\",\n        \"description\": \"\"\n      }\n    },\n    {\n      \"column\": \"Best Hyperparameters\",\n      \"properties\": {\n        \"dtype\": \"string\",\n        \"num_unique_values\": 3,\n        \"samples\": [\n          \"batch_size = 32 , lr = 0.001, epochs = 10\",\n          \"batch_size = 32, lr = 0.001, epochs = 10\",\n          \"batch_size= 49, lr=0.001, epochs=4\"\n        ],\n        \"semantic_type\": \"\",\n        \"description\": \"\"\n      }\n    },\n    {\n      \"column\": \"Best Score\",\n      \"properties\": {\n        \"dtype\": \"number\",\n        \"std\": 0.3689625093872512,\n        \"min\": 96.71,\n        \"max\": 97.43,\n        \"num_unique_values\": 3,\n        \"samples\": [\n          97.21,\n          97.43,\n          96.71\n        ],\n        \"semantic_type\": \"\",\n        \"description\": \"\"\n      }\n    },\n    {\n      \"column\": \"Time Taken (min)\",\n      \"properties\": {\n        \"dtype\": \"number\",\n        \"std\": 23,\n        \"min\": 15,\n        \"max\": 60,\n        \"num_unique_values\": 3,\n        \"samples\": [\n          15,\n          29,\n          60\n        ],\n        \"semantic_type\": \"\",\n        \"description\": \"\"\n      }\n    }\n  ]\n}"
            }
          },
          "metadata": {},
          "execution_count": 37
        }
      ]
    },
    {
      "cell_type": "code",
      "source": [
        "# Plotting a bar chart to compare the time taken by each method\n",
        "plt.figure(figsize=(8, 6))\n",
        "sns.barplot(x='Method', y='Time Taken (min)', data=comparison_df, palette='magma')\n",
        "plt.title('Comparison of Time Taken by Optimization Methods')\n",
        "plt.ylabel('Time Taken (Seconds)')\n",
        "plt.xlabel('Method')\n",
        "plt.show()"
      ],
      "metadata": {
        "colab": {
          "base_uri": "https://localhost:8080/",
          "height": 676
        },
        "id": "u9GwHC8EeTJZ",
        "outputId": "e08ce8e1-75ae-469b-cc83-944cefd2a59a"
      },
      "execution_count": null,
      "outputs": [
        {
          "output_type": "stream",
          "name": "stderr",
          "text": [
            "<ipython-input-42-82bb1bf01e96>:3: FutureWarning: \n",
            "\n",
            "Passing `palette` without assigning `hue` is deprecated and will be removed in v0.14.0. Assign the `x` variable to `hue` and set `legend=False` for the same effect.\n",
            "\n",
            "  sns.barplot(x='Method', y='Time Taken (min)', data=comparison_df, palette='magma')\n"
          ]
        },
        {
          "output_type": "display_data",
          "data": {
            "text/plain": [
              "<Figure size 800x600 with 1 Axes>"
            ],
            "image/png": "[encoded data removed]"
          },
          "metadata": {}
        }
      ]
    },
    {
      "cell_type": "markdown",
      "source": [
        "# Hyperparameter Optimization: Grid Search vs Randomized Search vs Genetic Algorithm (GA)\n",
        "\n",
        "## Results Summary\n",
        "\n",
        "| Index | Method              | Hyperparameters                           | Best Score (%) | Time Taken (seconds) |\n",
        "|-------|---------------------|-------------------------------------------|----------------|----------------------|\n",
        "| 0     | **Grid Search**      | batch_size = 32, lr = 0.001, epochs = 10  | 97.21          | 15                   |\n",
        "| 1     | **Randomized Search**| batch_size = 32, lr = 0.001, epochs = 10  | 97.43          | 29                   |\n",
        "| 2     | **Genetic Algorithm**| batch_size = 49, lr = 0.001, epochs = 4   | 96.71          | 60                   |\n",
        "\n",
        "## Analysis\n",
        "\n",
        "### 1. **Grid Search**\n",
        "   - **Best Score**: 97.21%\n",
        "   - **Time Taken**: 15 minuts\n",
        "   - **Advantages**:\n",
        "     - Performs exhaustive search over a predefined set of hyperparameters.\n",
        "     - Suitable for small, discrete search spaces.\n",
        "     - Quick results when the hyperparameter space is limited.\n",
        "   - **Limitations**:\n",
        "     - Inefficient for large or continuous search spaces.\n",
        "     - May miss better solutions in complex spaces.\n",
        "\n",
        "### 2. **Randomized Search**\n",
        "   - **Best Score**: 97.43%\n",
        "   - **Time Taken**: 29 minuts\n",
        "   - **Advantages**:\n",
        "     - Randomly samples hyperparameter space, providing more flexibility.\n",
        "     - Can be faster than Grid Search when the search space is large.\n",
        "     - More efficient than Grid Search in some cases, as it may find good results faster.\n",
        "   - **Limitations**:\n",
        "     - May not find the absolute best solution if the sampling is not broad enough.\n",
        "     - Still may not be efficient in very large search spaces.\n",
        "\n",
        "### 3. **Genetic Algorithm (GA)**\n",
        "   - **Best Score**: 96.71%\n",
        "   - **Time Taken**: 60 minuts\n",
        "   - **Advantages**:\n",
        "     - Useful for complex, large, or non-linear search spaces.\n",
        "     - Flexible and adaptable to different optimization problems.\n",
        "     - Can incorporate domain-specific constraints or preferences.\n",
        "   - **Limitations**:\n",
        "     - Computationally expensive and slower to converge.\n",
        "     - May not always provide better performance than traditional methods like Grid Search or Randomized Search.\n",
        "\n",
        "## Final Interpretation\n",
        "\n",
        "- **Grid Search**: Performs well with small, discrete search spaces. It is quick and efficient but may miss better results in larger spaces.\n",
        "- **Randomized Search**: Slightly outperforms Grid Search in terms of accuracy while being more efficient in larger search spaces.\n",
        "- **Genetic Algorithm**: Takes more time and results in slightly lower accuracy compared to Grid Search and Randomized Search. However, it is a strong candidate for large and complex search spaces.\n",
        "\n",
        "## When to Use Genetic Algorithm (GA)\n",
        "- **Large and Complex Search Spaces**: GA is suitable for problems with large, non-linear, or continuous hyperparameter spaces where traditional methods may struggle.\n",
        "- **Difficult-to-Model Problems**: If the relationship between hyperparameters is not straightforward or well-defined, GA can adapt to find better solutions.\n",
        "- **Flexibility**: GA is ideal when domain-specific constraints or preferences need to be incorporated.\n",
        "\n",
        "## When to Use Grid Search or Randomized Search\n",
        "- **Small and Discrete Search Spaces**: If the search space is small and discrete, Grid Search or Randomized Search will be much faster and efficient.\n",
        "- **Quick Results**: When you need quick results and the search space is well-understood, Grid Search and Randomized Search are preferable.\n",
        "- **Smooth Objective Functions**: If the objective function is smooth and continuous, Grid Search or Randomized Search will often be sufficient.\n",
        "\n",
        "## Conclusion\n",
        "- **Grid Search and Randomized Search** are more efficient for smaller, well-defined search spaces, and they provide fast results.\n",
        "- **Genetic Algorithm (GA)** is better suited for more complex, large, or poorly understood search spaces, though it is computationally more expensive."
      ],
      "metadata": {
        "id": "zU6BQIBNe1Kq"
      }
    },
    {
      "cell_type": "code",
      "source": [],
      "metadata": {
        "id": "NC9sILulenOG"
      },
      "execution_count": null,
      "outputs": []
    }
  ],
  "metadata": {
    "kernelspec": {
      "display_name": "Python 3",
      "language": "python",
      "name": "python3"
    },
    "language_info": {
      "codemirror_mode": {
        "name": "ipython",
        "version": 3
      },
      "file_extension": ".py",
      "mimetype": "text/x-python",
      "name": "python",
      "nbconvert_exporter": "python",
      "pygments_lexer": "ipython3",
      "version": "3.12.5"
    },
    "colab": {
      "provenance": []
    }
  },
  "nbformat": 4,
  "nbformat_minor": 0
}